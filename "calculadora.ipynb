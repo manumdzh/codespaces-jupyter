{
 "cells": [
  {
   "cell_type": "code",
   "execution_count": null,
   "metadata": {},
   "outputs": [],
   "source": [
    " numero1 =int(input(\"Escribe el numero 1\"))\n",
    "numero2 =int(input(\"Escribe el numero 2\"))\n",
    "operacion = input(\"Escribe la operacion\")\n",
    "if operacion == \"+\": \n",
    "    print (numero1+numero2)\n",
    "if operacion == \"-\":\n",
    "    print (numero1-numero2)\n",
    "if operacion == \"/\":\n",
    "    print (numero1/numero2)\n",
    "if operacion == \"*\":\n",
    "    print(numero1*numero2)"
   ]
  }
 ],
 "metadata": {
  "language_info": {
   "name": "python"
  }
 },
 "nbformat": 4,
 "nbformat_minor": 2
}
